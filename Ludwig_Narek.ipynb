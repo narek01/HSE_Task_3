{
 "cells": [
  {
   "cell_type": "code",
   "execution_count": null,
   "metadata": {},
   "outputs": [],
   "source": [
    "from ludwig.api import *\n",
    "import pandas as pd\n",
    "from ludwig.visualize import *"
   ]
  },
  {
   "cell_type": "code",
   "execution_count": null,
   "metadata": {},
   "outputs": [],
   "source": [
    "model_definition = {\n",
    "    \"input_features\": [\n",
    "                       {\"name\":\"goal\", \"type\":\"numerical\"},\n",
    "                       {\"name\":\"category\", \"type\":\"category\"},\n",
    "                       {\"name\":\"main_category\", \"type\":\"category\"},\n",
    "                       {\"name\":\"currency\", \"type\":\"category\"},\n",
    "                       {\"name\":\"pledged\", \"type\":\"numerical\"},\n",
    "        \n",
    "    ],\n",
    "    \"output_features\": [\n",
    "                       \n",
    "                       {\"name\":\"state\", \"type\":\"category\"}\n",
    "    ]\n",
    "}"
   ]
  },
  {
   "cell_type": "code",
   "execution_count": null,
   "metadata": {},
   "outputs": [],
   "source": [
    "model = LudwigModel(model_definition)"
   ]
  },
  {
   "cell_type": "code",
   "execution_count": null,
   "metadata": {},
   "outputs": [],
   "source": [
    "cdf = pd.read_csv('ks-projects-201801.csv')\n",
    "cdf1 = pd.DataFrame(cdf)"
   ]
  },
  {
   "cell_type": "code",
   "execution_count": null,
   "metadata": {},
   "outputs": [],
   "source": [
    "train = model.train(cdf1)\n",
    "predictions = model.predict(cdf1)\n",
    "predictions(1)"
   ]
  },
  {
   "cell_type": "code",
   "execution_count": null,
   "metadata": {},
   "outputs": [],
   "source": [
    "learning_curves(train, 'state')"
   ]
  },
  {
   "cell_type": "code",
   "execution_count": null,
   "metadata": {},
   "outputs": [],
   "source": [
    "predictions = model.predict(cdf1)\n",
    "predictions.head(10)"
   ]
  }
 ],
 "metadata": {
  "kernelspec": {
   "display_name": "Python 3",
   "language": "python",
   "name": "python3"
  },
  "language_info": {
   "codemirror_mode": {
    "name": "ipython",
    "version": 3
   },
   "file_extension": ".py",
   "mimetype": "text/x-python",
   "name": "python",
   "nbconvert_exporter": "python",
   "pygments_lexer": "ipython3",
   "version": "3.7.6"
  }
 },
 "nbformat": 4,
 "nbformat_minor": 2
}
